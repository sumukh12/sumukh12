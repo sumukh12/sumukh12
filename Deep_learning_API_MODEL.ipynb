{
  "nbformat": 4,
  "nbformat_minor": 0,
  "metadata": {
    "colab": {
      "name": "Deep learning API MODEL",
      "provenance": [],
      "collapsed_sections": []
    },
    "kernelspec": {
      "name": "python3",
      "display_name": "Python 3"
    },
    "language_info": {
      "name": "python"
    }
  },
  "cells": [
    {
      "cell_type": "code",
      "metadata": {
        "id": "2xtiJN-6jrbB"
      },
      "source": [
        "import tensorflow as tf\n",
        "import pandas as pd\n",
        "import numpy as np\n",
        "import matplotlib.pyplot as plt\n",
        "\n",
        "from sklearn.datasets import load_iris\n",
        "from sklearn.model_selection import train_test_split\n",
        "\n",
        "from tensorflow.keras.layers import concatenate\n",
        "from tensorflow.keras.models import Model\n",
        "from tensorflow.keras.layers import Input,Dense\n",
        "from tensorflow.keras.utils import plot_model"
      ],
      "execution_count": 67,
      "outputs": []
    },
    {
      "cell_type": "code",
      "metadata": {
        "id": "iinWlE_Gk7GA"
      },
      "source": [
        "iris=load_iris()"
      ],
      "execution_count": 26,
      "outputs": []
    },
    {
      "cell_type": "code",
      "metadata": {
        "id": "uG4CSMxilS43"
      },
      "source": [
        "#Exploring data"
      ],
      "execution_count": 27,
      "outputs": []
    },
    {
      "cell_type": "code",
      "metadata": {
        "id": "63gny6-fQzhv",
        "colab": {
          "base_uri": "https://localhost:8080/",
          "height": 204
        },
        "outputId": "b9319412-3e5d-4bcd-da31-5d293517f562"
      },
      "source": [
        "#Loading into dataframe\n",
        "df=pd.DataFrame(iris.data,columns=iris.feature_names)\n",
        "df.head()"
      ],
      "execution_count": 28,
      "outputs": [
        {
          "output_type": "execute_result",
          "data": {
            "text/html": [
              "<div>\n",
              "<style scoped>\n",
              "    .dataframe tbody tr th:only-of-type {\n",
              "        vertical-align: middle;\n",
              "    }\n",
              "\n",
              "    .dataframe tbody tr th {\n",
              "        vertical-align: top;\n",
              "    }\n",
              "\n",
              "    .dataframe thead th {\n",
              "        text-align: right;\n",
              "    }\n",
              "</style>\n",
              "<table border=\"1\" class=\"dataframe\">\n",
              "  <thead>\n",
              "    <tr style=\"text-align: right;\">\n",
              "      <th></th>\n",
              "      <th>sepal length (cm)</th>\n",
              "      <th>sepal width (cm)</th>\n",
              "      <th>petal length (cm)</th>\n",
              "      <th>petal width (cm)</th>\n",
              "    </tr>\n",
              "  </thead>\n",
              "  <tbody>\n",
              "    <tr>\n",
              "      <th>0</th>\n",
              "      <td>5.1</td>\n",
              "      <td>3.5</td>\n",
              "      <td>1.4</td>\n",
              "      <td>0.2</td>\n",
              "    </tr>\n",
              "    <tr>\n",
              "      <th>1</th>\n",
              "      <td>4.9</td>\n",
              "      <td>3.0</td>\n",
              "      <td>1.4</td>\n",
              "      <td>0.2</td>\n",
              "    </tr>\n",
              "    <tr>\n",
              "      <th>2</th>\n",
              "      <td>4.7</td>\n",
              "      <td>3.2</td>\n",
              "      <td>1.3</td>\n",
              "      <td>0.2</td>\n",
              "    </tr>\n",
              "    <tr>\n",
              "      <th>3</th>\n",
              "      <td>4.6</td>\n",
              "      <td>3.1</td>\n",
              "      <td>1.5</td>\n",
              "      <td>0.2</td>\n",
              "    </tr>\n",
              "    <tr>\n",
              "      <th>4</th>\n",
              "      <td>5.0</td>\n",
              "      <td>3.6</td>\n",
              "      <td>1.4</td>\n",
              "      <td>0.2</td>\n",
              "    </tr>\n",
              "  </tbody>\n",
              "</table>\n",
              "</div>"
            ],
            "text/plain": [
              "   sepal length (cm)  sepal width (cm)  petal length (cm)  petal width (cm)\n",
              "0                5.1               3.5                1.4               0.2\n",
              "1                4.9               3.0                1.4               0.2\n",
              "2                4.7               3.2                1.3               0.2\n",
              "3                4.6               3.1                1.5               0.2\n",
              "4                5.0               3.6                1.4               0.2"
            ]
          },
          "metadata": {
            "tags": []
          },
          "execution_count": 28
        }
      ]
    },
    {
      "cell_type": "code",
      "metadata": {
        "colab": {
          "base_uri": "https://localhost:8080/",
          "height": 204
        },
        "id": "kVE2TPVZSHl5",
        "outputId": "60f41b55-d222-437b-b16f-4cf2a2972a6a"
      },
      "source": [
        "#append target and name it label\n",
        "df['label']=iris.target\n",
        "df.head()"
      ],
      "execution_count": 29,
      "outputs": [
        {
          "output_type": "execute_result",
          "data": {
            "text/html": [
              "<div>\n",
              "<style scoped>\n",
              "    .dataframe tbody tr th:only-of-type {\n",
              "        vertical-align: middle;\n",
              "    }\n",
              "\n",
              "    .dataframe tbody tr th {\n",
              "        vertical-align: top;\n",
              "    }\n",
              "\n",
              "    .dataframe thead th {\n",
              "        text-align: right;\n",
              "    }\n",
              "</style>\n",
              "<table border=\"1\" class=\"dataframe\">\n",
              "  <thead>\n",
              "    <tr style=\"text-align: right;\">\n",
              "      <th></th>\n",
              "      <th>sepal length (cm)</th>\n",
              "      <th>sepal width (cm)</th>\n",
              "      <th>petal length (cm)</th>\n",
              "      <th>petal width (cm)</th>\n",
              "      <th>label</th>\n",
              "    </tr>\n",
              "  </thead>\n",
              "  <tbody>\n",
              "    <tr>\n",
              "      <th>0</th>\n",
              "      <td>5.1</td>\n",
              "      <td>3.5</td>\n",
              "      <td>1.4</td>\n",
              "      <td>0.2</td>\n",
              "      <td>0</td>\n",
              "    </tr>\n",
              "    <tr>\n",
              "      <th>1</th>\n",
              "      <td>4.9</td>\n",
              "      <td>3.0</td>\n",
              "      <td>1.4</td>\n",
              "      <td>0.2</td>\n",
              "      <td>0</td>\n",
              "    </tr>\n",
              "    <tr>\n",
              "      <th>2</th>\n",
              "      <td>4.7</td>\n",
              "      <td>3.2</td>\n",
              "      <td>1.3</td>\n",
              "      <td>0.2</td>\n",
              "      <td>0</td>\n",
              "    </tr>\n",
              "    <tr>\n",
              "      <th>3</th>\n",
              "      <td>4.6</td>\n",
              "      <td>3.1</td>\n",
              "      <td>1.5</td>\n",
              "      <td>0.2</td>\n",
              "      <td>0</td>\n",
              "    </tr>\n",
              "    <tr>\n",
              "      <th>4</th>\n",
              "      <td>5.0</td>\n",
              "      <td>3.6</td>\n",
              "      <td>1.4</td>\n",
              "      <td>0.2</td>\n",
              "      <td>0</td>\n",
              "    </tr>\n",
              "  </tbody>\n",
              "</table>\n",
              "</div>"
            ],
            "text/plain": [
              "   sepal length (cm)  sepal width (cm)  ...  petal width (cm)  label\n",
              "0                5.1               3.5  ...               0.2      0\n",
              "1                4.9               3.0  ...               0.2      0\n",
              "2                4.7               3.2  ...               0.2      0\n",
              "3                4.6               3.1  ...               0.2      0\n",
              "4                5.0               3.6  ...               0.2      0\n",
              "\n",
              "[5 rows x 5 columns]"
            ]
          },
          "metadata": {
            "tags": []
          },
          "execution_count": 29
        }
      ]
    },
    {
      "cell_type": "code",
      "metadata": {
        "colab": {
          "base_uri": "https://localhost:8080/",
          "height": 204
        },
        "id": "9Sv5UYdumQXm",
        "outputId": "7f3f8b5e-874d-4977-b159-846f326940ae"
      },
      "source": [
        "#use string label instaed\n",
        "df['label']=df.label.replace(dict(enumerate(iris.target_names)))\n",
        "df.head()"
      ],
      "execution_count": 30,
      "outputs": [
        {
          "output_type": "execute_result",
          "data": {
            "text/html": [
              "<div>\n",
              "<style scoped>\n",
              "    .dataframe tbody tr th:only-of-type {\n",
              "        vertical-align: middle;\n",
              "    }\n",
              "\n",
              "    .dataframe tbody tr th {\n",
              "        vertical-align: top;\n",
              "    }\n",
              "\n",
              "    .dataframe thead th {\n",
              "        text-align: right;\n",
              "    }\n",
              "</style>\n",
              "<table border=\"1\" class=\"dataframe\">\n",
              "  <thead>\n",
              "    <tr style=\"text-align: right;\">\n",
              "      <th></th>\n",
              "      <th>sepal length (cm)</th>\n",
              "      <th>sepal width (cm)</th>\n",
              "      <th>petal length (cm)</th>\n",
              "      <th>petal width (cm)</th>\n",
              "      <th>label</th>\n",
              "    </tr>\n",
              "  </thead>\n",
              "  <tbody>\n",
              "    <tr>\n",
              "      <th>0</th>\n",
              "      <td>5.1</td>\n",
              "      <td>3.5</td>\n",
              "      <td>1.4</td>\n",
              "      <td>0.2</td>\n",
              "      <td>setosa</td>\n",
              "    </tr>\n",
              "    <tr>\n",
              "      <th>1</th>\n",
              "      <td>4.9</td>\n",
              "      <td>3.0</td>\n",
              "      <td>1.4</td>\n",
              "      <td>0.2</td>\n",
              "      <td>setosa</td>\n",
              "    </tr>\n",
              "    <tr>\n",
              "      <th>2</th>\n",
              "      <td>4.7</td>\n",
              "      <td>3.2</td>\n",
              "      <td>1.3</td>\n",
              "      <td>0.2</td>\n",
              "      <td>setosa</td>\n",
              "    </tr>\n",
              "    <tr>\n",
              "      <th>3</th>\n",
              "      <td>4.6</td>\n",
              "      <td>3.1</td>\n",
              "      <td>1.5</td>\n",
              "      <td>0.2</td>\n",
              "      <td>setosa</td>\n",
              "    </tr>\n",
              "    <tr>\n",
              "      <th>4</th>\n",
              "      <td>5.0</td>\n",
              "      <td>3.6</td>\n",
              "      <td>1.4</td>\n",
              "      <td>0.2</td>\n",
              "      <td>setosa</td>\n",
              "    </tr>\n",
              "  </tbody>\n",
              "</table>\n",
              "</div>"
            ],
            "text/plain": [
              "   sepal length (cm)  sepal width (cm)  ...  petal width (cm)   label\n",
              "0                5.1               3.5  ...               0.2  setosa\n",
              "1                4.9               3.0  ...               0.2  setosa\n",
              "2                4.7               3.2  ...               0.2  setosa\n",
              "3                4.6               3.1  ...               0.2  setosa\n",
              "4                5.0               3.6  ...               0.2  setosa\n",
              "\n",
              "[5 rows x 5 columns]"
            ]
          },
          "metadata": {
            "tags": []
          },
          "execution_count": 30
        }
      ]
    },
    {
      "cell_type": "code",
      "metadata": {
        "id": "In58KyotmWUD"
      },
      "source": [
        "#Preparing data for keras and tensorflow"
      ],
      "execution_count": 31,
      "outputs": []
    },
    {
      "cell_type": "code",
      "metadata": {
        "colab": {
          "base_uri": "https://localhost:8080/",
          "height": 204
        },
        "id": "tc2Bnm_6mXMH",
        "outputId": "ab03edcb-2549-4875-fe01-9d8c15a01330"
      },
      "source": [
        "#label one hot encoding\n",
        "label=pd.get_dummies(df['label'])\n",
        "label.columns=['label_' +str(x)for x in label.columns]\n",
        "df=pd.concat([df,label],axis=1)\n",
        "df.head()"
      ],
      "execution_count": 32,
      "outputs": [
        {
          "output_type": "execute_result",
          "data": {
            "text/html": [
              "<div>\n",
              "<style scoped>\n",
              "    .dataframe tbody tr th:only-of-type {\n",
              "        vertical-align: middle;\n",
              "    }\n",
              "\n",
              "    .dataframe tbody tr th {\n",
              "        vertical-align: top;\n",
              "    }\n",
              "\n",
              "    .dataframe thead th {\n",
              "        text-align: right;\n",
              "    }\n",
              "</style>\n",
              "<table border=\"1\" class=\"dataframe\">\n",
              "  <thead>\n",
              "    <tr style=\"text-align: right;\">\n",
              "      <th></th>\n",
              "      <th>sepal length (cm)</th>\n",
              "      <th>sepal width (cm)</th>\n",
              "      <th>petal length (cm)</th>\n",
              "      <th>petal width (cm)</th>\n",
              "      <th>label</th>\n",
              "      <th>label_setosa</th>\n",
              "      <th>label_versicolor</th>\n",
              "      <th>label_virginica</th>\n",
              "    </tr>\n",
              "  </thead>\n",
              "  <tbody>\n",
              "    <tr>\n",
              "      <th>0</th>\n",
              "      <td>5.1</td>\n",
              "      <td>3.5</td>\n",
              "      <td>1.4</td>\n",
              "      <td>0.2</td>\n",
              "      <td>setosa</td>\n",
              "      <td>1</td>\n",
              "      <td>0</td>\n",
              "      <td>0</td>\n",
              "    </tr>\n",
              "    <tr>\n",
              "      <th>1</th>\n",
              "      <td>4.9</td>\n",
              "      <td>3.0</td>\n",
              "      <td>1.4</td>\n",
              "      <td>0.2</td>\n",
              "      <td>setosa</td>\n",
              "      <td>1</td>\n",
              "      <td>0</td>\n",
              "      <td>0</td>\n",
              "    </tr>\n",
              "    <tr>\n",
              "      <th>2</th>\n",
              "      <td>4.7</td>\n",
              "      <td>3.2</td>\n",
              "      <td>1.3</td>\n",
              "      <td>0.2</td>\n",
              "      <td>setosa</td>\n",
              "      <td>1</td>\n",
              "      <td>0</td>\n",
              "      <td>0</td>\n",
              "    </tr>\n",
              "    <tr>\n",
              "      <th>3</th>\n",
              "      <td>4.6</td>\n",
              "      <td>3.1</td>\n",
              "      <td>1.5</td>\n",
              "      <td>0.2</td>\n",
              "      <td>setosa</td>\n",
              "      <td>1</td>\n",
              "      <td>0</td>\n",
              "      <td>0</td>\n",
              "    </tr>\n",
              "    <tr>\n",
              "      <th>4</th>\n",
              "      <td>5.0</td>\n",
              "      <td>3.6</td>\n",
              "      <td>1.4</td>\n",
              "      <td>0.2</td>\n",
              "      <td>setosa</td>\n",
              "      <td>1</td>\n",
              "      <td>0</td>\n",
              "      <td>0</td>\n",
              "    </tr>\n",
              "  </tbody>\n",
              "</table>\n",
              "</div>"
            ],
            "text/plain": [
              "   sepal length (cm)  sepal width (cm)  ...  label_versicolor  label_virginica\n",
              "0                5.1               3.5  ...                 0                0\n",
              "1                4.9               3.0  ...                 0                0\n",
              "2                4.7               3.2  ...                 0                0\n",
              "3                4.6               3.1  ...                 0                0\n",
              "4                5.0               3.6  ...                 0                0\n",
              "\n",
              "[5 rows x 8 columns]"
            ]
          },
          "metadata": {
            "tags": []
          },
          "execution_count": 32
        }
      ]
    },
    {
      "cell_type": "code",
      "metadata": {
        "id": "v4CDo9qEmkCb"
      },
      "source": [
        "#drop the old column label\n",
        "df.drop(['label'],axis=1,inplace=True)"
      ],
      "execution_count": 33,
      "outputs": []
    },
    {
      "cell_type": "code",
      "metadata": {
        "id": "Gywhp52MmrCX"
      },
      "source": [
        "#Creating x and y\n",
        "X=df[['sepal length (cm)','sepal width (cm)','petal length (cm)','petal width (cm)']]\n",
        "#converting dataframe into np array\n",
        "X=np.asarray(X)\n",
        "\n",
        "y=df[['label_setosa','label_versicolor','label_virginica',]]\n",
        "#covert dataframe into nparray\n",
        "y=np.asarray(y)"
      ],
      "execution_count": 34,
      "outputs": []
    },
    {
      "cell_type": "code",
      "metadata": {
        "colab": {
          "base_uri": "https://localhost:8080/"
        },
        "id": "gcXsOTxGmxZ9",
        "outputId": "d445a8be-cb0a-40b9-c053-c3f25a058e93"
      },
      "source": [
        "print(X[:10])\n",
        "print(y[:10])"
      ],
      "execution_count": 35,
      "outputs": [
        {
          "output_type": "stream",
          "text": [
            "[[5.1 3.5 1.4 0.2]\n",
            " [4.9 3.  1.4 0.2]\n",
            " [4.7 3.2 1.3 0.2]\n",
            " [4.6 3.1 1.5 0.2]\n",
            " [5.  3.6 1.4 0.2]\n",
            " [5.4 3.9 1.7 0.4]\n",
            " [4.6 3.4 1.4 0.3]\n",
            " [5.  3.4 1.5 0.2]\n",
            " [4.4 2.9 1.4 0.2]\n",
            " [4.9 3.1 1.5 0.1]]\n",
            "[[1 0 0]\n",
            " [1 0 0]\n",
            " [1 0 0]\n",
            " [1 0 0]\n",
            " [1 0 0]\n",
            " [1 0 0]\n",
            " [1 0 0]\n",
            " [1 0 0]\n",
            " [1 0 0]\n",
            " [1 0 0]]\n"
          ],
          "name": "stdout"
        }
      ]
    },
    {
      "cell_type": "code",
      "metadata": {
        "id": "5HlRU7gxm0H-"
      },
      "source": [
        "#splitting the data in training(75%)remaining(25%)\n",
        "X_train,X_test,y_train,y_test=train_test_split(X,y,test_size=0.25)"
      ],
      "execution_count": 36,
      "outputs": []
    },
    {
      "cell_type": "code",
      "metadata": {
        "id": "1U6vXwasm-w0"
      },
      "source": [
        "#Funtional API"
      ],
      "execution_count": 37,
      "outputs": []
    },
    {
      "cell_type": "code",
      "metadata": {
        "colab": {
          "base_uri": "https://localhost:8080/"
        },
        "id": "2hk2Xk4DnBJf",
        "outputId": "5bd2fbe2-9846-4b3e-a376-6f862e243b83"
      },
      "source": [
        "#This return o tensor\n",
        "input=Input(shape=(4,))\n",
        "#a layer instance is collable on a tensor and return 0 tensor\n",
        "x=Dense(7,activation='relu')(input)\n",
        "x=Dense(10,activation='relu')(x)\n",
        "outputs=Dense(3,activation='softmax')(x)\n",
        "#this create a model that includes\n",
        "#The input layer and 3 dense layer\n",
        "model_fun_api=Model(inputs=input,outputs=outputs)\n",
        "model_fun_api.summary()"
      ],
      "execution_count": 38,
      "outputs": [
        {
          "output_type": "stream",
          "text": [
            "Model: \"model_2\"\n",
            "_________________________________________________________________\n",
            "Layer (type)                 Output Shape              Param #   \n",
            "=================================================================\n",
            "input_5 (InputLayer)         [(None, 4)]               0         \n",
            "_________________________________________________________________\n",
            "dense_10 (Dense)             (None, 7)                 35        \n",
            "_________________________________________________________________\n",
            "dense_11 (Dense)             (None, 10)                80        \n",
            "_________________________________________________________________\n",
            "dense_12 (Dense)             (None, 3)                 33        \n",
            "=================================================================\n",
            "Total params: 148\n",
            "Trainable params: 148\n",
            "Non-trainable params: 0\n",
            "_________________________________________________________________\n"
          ],
          "name": "stdout"
        }
      ]
    },
    {
      "cell_type": "code",
      "metadata": {
        "id": "PkRVA6mKom0C"
      },
      "source": [
        "model_fun_api.compile(\n",
        "                 optimizer='adam',\n",
        "                 loss='categorical_crossentropy',\n",
        "                 metrics=['accuracy']\n",
        ")"
      ],
      "execution_count": 39,
      "outputs": []
    },
    {
      "cell_type": "code",
      "metadata": {
        "colab": {
          "base_uri": "https://localhost:8080/"
        },
        "id": "puusWq8SqDGv",
        "outputId": "610f82ce-584c-403d-e539-5eda4138fc05"
      },
      "source": [
        "#Then train the model with fit\n",
        "history=model_fun_api.fit(X_train,y_train,\n",
        "                          batch_size=64,\n",
        "                          epochs=30,\n",
        "                          validation_split=0.2)"
      ],
      "execution_count": 40,
      "outputs": [
        {
          "output_type": "stream",
          "text": [
            "Epoch 1/30\n",
            "2/2 [==============================] - 1s 150ms/step - loss: 2.7008 - accuracy: 0.3146 - val_loss: 2.5341 - val_accuracy: 0.3913\n",
            "Epoch 2/30\n",
            "2/2 [==============================] - 0s 21ms/step - loss: 2.5938 - accuracy: 0.3146 - val_loss: 2.4389 - val_accuracy: 0.3913\n",
            "Epoch 3/30\n",
            "2/2 [==============================] - 0s 32ms/step - loss: 2.4911 - accuracy: 0.3146 - val_loss: 2.3480 - val_accuracy: 0.3913\n",
            "Epoch 4/30\n",
            "2/2 [==============================] - 0s 20ms/step - loss: 2.3905 - accuracy: 0.3146 - val_loss: 2.2612 - val_accuracy: 0.3913\n",
            "Epoch 5/30\n",
            "2/2 [==============================] - 0s 21ms/step - loss: 2.2964 - accuracy: 0.3146 - val_loss: 2.1780 - val_accuracy: 0.3913\n",
            "Epoch 6/30\n",
            "2/2 [==============================] - 0s 21ms/step - loss: 2.2073 - accuracy: 0.3146 - val_loss: 2.0987 - val_accuracy: 0.3913\n",
            "Epoch 7/30\n",
            "2/2 [==============================] - 0s 21ms/step - loss: 2.1206 - accuracy: 0.3146 - val_loss: 2.0234 - val_accuracy: 0.3913\n",
            "Epoch 8/30\n",
            "2/2 [==============================] - 0s 19ms/step - loss: 2.0398 - accuracy: 0.3146 - val_loss: 1.9515 - val_accuracy: 0.3913\n",
            "Epoch 9/30\n",
            "2/2 [==============================] - 0s 22ms/step - loss: 1.9603 - accuracy: 0.3146 - val_loss: 1.8828 - val_accuracy: 0.3913\n",
            "Epoch 10/30\n",
            "2/2 [==============================] - 0s 23ms/step - loss: 1.8882 - accuracy: 0.3258 - val_loss: 1.8166 - val_accuracy: 0.3913\n",
            "Epoch 11/30\n",
            "2/2 [==============================] - 0s 29ms/step - loss: 1.8204 - accuracy: 0.3258 - val_loss: 1.7540 - val_accuracy: 0.4348\n",
            "Epoch 12/30\n",
            "2/2 [==============================] - 0s 28ms/step - loss: 1.7565 - accuracy: 0.3483 - val_loss: 1.6952 - val_accuracy: 0.4348\n",
            "Epoch 13/30\n",
            "2/2 [==============================] - 0s 27ms/step - loss: 1.6896 - accuracy: 0.4494 - val_loss: 1.6396 - val_accuracy: 0.5217\n",
            "Epoch 14/30\n",
            "2/2 [==============================] - 0s 25ms/step - loss: 1.6339 - accuracy: 0.5169 - val_loss: 1.5859 - val_accuracy: 0.5217\n",
            "Epoch 15/30\n",
            "2/2 [==============================] - 0s 23ms/step - loss: 1.5764 - accuracy: 0.5618 - val_loss: 1.5343 - val_accuracy: 0.6087\n",
            "Epoch 16/30\n",
            "2/2 [==============================] - 0s 22ms/step - loss: 1.5246 - accuracy: 0.6180 - val_loss: 1.4850 - val_accuracy: 0.6087\n",
            "Epoch 17/30\n",
            "2/2 [==============================] - 0s 23ms/step - loss: 1.4735 - accuracy: 0.6292 - val_loss: 1.4379 - val_accuracy: 0.6087\n",
            "Epoch 18/30\n",
            "2/2 [==============================] - 0s 25ms/step - loss: 1.4276 - accuracy: 0.6292 - val_loss: 1.3929 - val_accuracy: 0.6087\n",
            "Epoch 19/30\n",
            "2/2 [==============================] - 0s 20ms/step - loss: 1.3816 - accuracy: 0.6292 - val_loss: 1.3506 - val_accuracy: 0.6087\n",
            "Epoch 20/30\n",
            "2/2 [==============================] - 0s 34ms/step - loss: 1.3368 - accuracy: 0.6292 - val_loss: 1.3104 - val_accuracy: 0.6087\n",
            "Epoch 21/30\n",
            "2/2 [==============================] - 0s 24ms/step - loss: 1.2938 - accuracy: 0.6292 - val_loss: 1.2716 - val_accuracy: 0.6087\n",
            "Epoch 22/30\n",
            "2/2 [==============================] - 0s 23ms/step - loss: 1.2566 - accuracy: 0.6292 - val_loss: 1.2338 - val_accuracy: 0.6087\n",
            "Epoch 23/30\n",
            "2/2 [==============================] - 0s 23ms/step - loss: 1.2181 - accuracy: 0.6292 - val_loss: 1.1980 - val_accuracy: 0.6087\n",
            "Epoch 24/30\n",
            "2/2 [==============================] - 0s 21ms/step - loss: 1.1826 - accuracy: 0.6292 - val_loss: 1.1640 - val_accuracy: 0.6087\n",
            "Epoch 25/30\n",
            "2/2 [==============================] - 0s 30ms/step - loss: 1.1487 - accuracy: 0.6292 - val_loss: 1.1316 - val_accuracy: 0.6087\n",
            "Epoch 26/30\n",
            "2/2 [==============================] - 0s 22ms/step - loss: 1.1167 - accuracy: 0.6292 - val_loss: 1.1012 - val_accuracy: 0.6087\n",
            "Epoch 27/30\n",
            "2/2 [==============================] - 0s 29ms/step - loss: 1.0872 - accuracy: 0.6292 - val_loss: 1.0726 - val_accuracy: 0.6087\n",
            "Epoch 28/30\n",
            "2/2 [==============================] - 0s 25ms/step - loss: 1.0574 - accuracy: 0.6292 - val_loss: 1.0462 - val_accuracy: 0.6087\n",
            "Epoch 29/30\n",
            "2/2 [==============================] - 0s 26ms/step - loss: 1.0314 - accuracy: 0.6292 - val_loss: 1.0213 - val_accuracy: 0.6087\n",
            "Epoch 30/30\n",
            "2/2 [==============================] - 0s 21ms/step - loss: 1.0057 - accuracy: 0.6292 - val_loss: 0.9981 - val_accuracy: 0.6087\n"
          ],
          "name": "stdout"
        }
      ]
    },
    {
      "cell_type": "code",
      "metadata": {
        "id": "Hiqnpa5QqohV"
      },
      "source": [
        "def plot_metric(history,metrics):\n",
        "  train_metrics=history.history[metrics]\n",
        "  val_metrics=history.history['val_'+metrics]\n",
        "  epochs=range(1,len(train_metrics)+1)\n",
        "  plt.plot(epochs,train_metrics,'bo--')\n",
        "  plt.plot(epochs,val_metrics,'ro--')\n",
        "  plt.title('Training and Validation'+metrics)\n",
        "  plt.xlabel('Epochs')\n",
        "  plt.ylabel(metrics)\n",
        "  plt.legend(['train_'+metrics,'val'+metrics])\n",
        "  plt.show()"
      ],
      "execution_count": 45,
      "outputs": []
    },
    {
      "cell_type": "code",
      "metadata": {
        "colab": {
          "base_uri": "https://localhost:8080/",
          "height": 295
        },
        "id": "b8l0uqqlsOxD",
        "outputId": "adec2625-08c9-4ccc-8c97-8a033321c95c"
      },
      "source": [
        "plot_metric(history,'loss')"
      ],
      "execution_count": 46,
      "outputs": [
        {
          "output_type": "display_data",
          "data": {
            "image/png": "[encoded data removed]",
            "text/plain": [
              "<Figure size 432x288 with 1 Axes>"
            ]
          },
          "metadata": {
            "tags": [],
            "needs_background": "light"
          }
        }
      ]
    },
    {
      "cell_type": "code",
      "metadata": {
        "colab": {
          "base_uri": "https://localhost:8080/",
          "height": 295
        },
        "id": "gjX74kN0sWCP",
        "outputId": "184ce0ad-aa2c-48f6-a5ec-17321a3fe515"
      },
      "source": [
        "plot_metric(history,'accuracy')"
      ],
      "execution_count": 48,
      "outputs": [
        {
          "output_type": "display_data",
          "data": {
            "image/png": "[encoded data removed]",
            "text/plain": [
              "<Figure size 432x288 with 1 Axes>"
            ]
          },
          "metadata": {
            "tags": [],
            "needs_background": "light"
          }
        }
      ]
    },
    {
      "cell_type": "code",
      "metadata": {
        "colab": {
          "base_uri": "https://localhost:8080/"
        },
        "id": "Uf1kSkphst_G",
        "outputId": "c192fbf1-50b4-4619-d440-ea77781e04e3"
      },
      "source": [
        "model_fun_api.evaluate(x=X_test,y=y_test)"
      ],
      "execution_count": 50,
      "outputs": [
        {
          "output_type": "stream",
          "text": [
            "2/2 [==============================] - 0s 6ms/step - loss: 0.8236 - accuracy: 0.7895\n"
          ],
          "name": "stdout"
        },
        {
          "output_type": "execute_result",
          "data": {
            "text/plain": [
              "[0.8235602378845215, 0.7894737124443054]"
            ]
          },
          "metadata": {
            "tags": []
          },
          "execution_count": 50
        }
      ]
    },
    {
      "cell_type": "code",
      "metadata": {
        "id": "N8W6ts3StK_D"
      },
      "source": [
        "##Multi input and multi output model\n"
      ],
      "execution_count": 54,
      "outputs": []
    },
    {
      "cell_type": "code",
      "metadata": {
        "id": "L-CwtCLAwUkS"
      },
      "source": [
        "#2 input and one output"
      ],
      "execution_count": 55,
      "outputs": []
    },
    {
      "cell_type": "code",
      "metadata": {
        "id": "KIRVD1b6when"
      },
      "source": [
        "input_structure=Input(shape=(4,),name='input_structure')\n",
        "input_image=Input(shape=(256),name='input_image')\n",
        "#middle layer\n",
        "x1=Dense(10,activation='relu')(input_structure)\n",
        "x2=Dense(100,activation='relu')(input_image)\n",
        "\n",
        "c=concatenate([x1,x2])\n",
        "outputs=Dense(3,activation='softmax',name='outputs')(c)\n",
        "model=Model(inputs=[input_structure,input_image],outputs=outputs)\n"
      ],
      "execution_count": 59,
      "outputs": []
    },
    {
      "cell_type": "code",
      "metadata": {
        "colab": {
          "base_uri": "https://localhost:8080/"
        },
        "id": "9GSbUafUyvFW",
        "outputId": "0429bf3a-c2d2-4d99-a596-5cf6c5a77cdf"
      },
      "source": [
        "model.summary()"
      ],
      "execution_count": 60,
      "outputs": [
        {
          "output_type": "stream",
          "text": [
            "Model: \"model_3\"\n",
            "__________________________________________________________________________________________________\n",
            "Layer (type)                    Output Shape         Param #     Connected to                     \n",
            "==================================================================================================\n",
            "input_structure (InputLayer)    [(None, 4)]          0                                            \n",
            "__________________________________________________________________________________________________\n",
            "input_image (InputLayer)        [(None, 256)]        0                                            \n",
            "__________________________________________________________________________________________________\n",
            "dense_15 (Dense)                (None, 10)           50          input_structure[0][0]            \n",
            "__________________________________________________________________________________________________\n",
            "dense_16 (Dense)                (None, 100)          25700       input_image[0][0]                \n",
            "__________________________________________________________________________________________________\n",
            "concatenate_1 (Concatenate)     (None, 110)          0           dense_15[0][0]                   \n",
            "                                                                 dense_16[0][0]                   \n",
            "__________________________________________________________________________________________________\n",
            "outputs (Dense)                 (None, 3)            333         concatenate_1[0][0]              \n",
            "==================================================================================================\n",
            "Total params: 26,083\n",
            "Trainable params: 26,083\n",
            "Non-trainable params: 0\n",
            "__________________________________________________________________________________________________\n"
          ],
          "name": "stdout"
        }
      ]
    },
    {
      "cell_type": "code",
      "metadata": {
        "id": "6v2UsNTyzDPP"
      },
      "source": [
        "#2 INPUT 2 OUTPUT"
      ],
      "execution_count": 61,
      "outputs": []
    },
    {
      "cell_type": "code",
      "metadata": {
        "id": "uiGj7CR10Ika"
      },
      "source": [
        "input_structure=Input(shape=(4,),name='input_structure')\n",
        "input_image=Input(shape=(256),name='input_image')\n",
        "#middle layer\n",
        "x1=Dense(10,activation='relu')(input_structure)\n",
        "x2=Dense(300,activation='relu')(input_image)\n",
        "c=concatenate([x1,x2])\n",
        "#output layer\n",
        "output1=Dense(1,activation='sigmoid',name='output1')(c)\n",
        "output2=Dense(10,activation='softmax',name='output2')(c)\n",
        "model=Model(inputs=[input_structure,input_image],outputs=[output1,output2])"
      ],
      "execution_count": 64,
      "outputs": []
    },
    {
      "cell_type": "code",
      "metadata": {
        "colab": {
          "base_uri": "https://localhost:8080/"
        },
        "id": "pLHpuPz12h7w",
        "outputId": "0ab50401-efea-4226-b028-65e979bbe4aa"
      },
      "source": [
        "model.summary()\n"
      ],
      "execution_count": 65,
      "outputs": [
        {
          "output_type": "stream",
          "text": [
            "Model: \"model_4\"\n",
            "__________________________________________________________________________________________________\n",
            "Layer (type)                    Output Shape         Param #     Connected to                     \n",
            "==================================================================================================\n",
            "input_structure (InputLayer)    [(None, 4)]          0                                            \n",
            "__________________________________________________________________________________________________\n",
            "input_image (InputLayer)        [(None, 256)]        0                                            \n",
            "__________________________________________________________________________________________________\n",
            "dense_21 (Dense)                (None, 10)           50          input_structure[0][0]            \n",
            "__________________________________________________________________________________________________\n",
            "dense_22 (Dense)                (None, 300)          77100       input_image[0][0]                \n",
            "__________________________________________________________________________________________________\n",
            "concatenate_4 (Concatenate)     (None, 310)          0           dense_21[0][0]                   \n",
            "                                                                 dense_22[0][0]                   \n",
            "__________________________________________________________________________________________________\n",
            "output1 (Dense)                 (None, 1)            311         concatenate_4[0][0]              \n",
            "__________________________________________________________________________________________________\n",
            "output2 (Dense)                 (None, 10)           3110        concatenate_4[0][0]              \n",
            "==================================================================================================\n",
            "Total params: 80,571\n",
            "Trainable params: 80,571\n",
            "Non-trainable params: 0\n",
            "__________________________________________________________________________________________________\n"
          ],
          "name": "stdout"
        }
      ]
    },
    {
      "cell_type": "code",
      "metadata": {
        "colab": {
          "base_uri": "https://localhost:8080/",
          "height": 369
        },
        "id": "HrDXW3HK2qN-",
        "outputId": "c1dd1b0d-860f-4af1-a6e9-2426c0526b25"
      },
      "source": [
        "plot_model(model_fun_api)"
      ],
      "execution_count": 68,
      "outputs": [
        {
          "output_type": "execute_result",
          "data": {
            "image/png": "[encoded data removed]",
            "text/plain": [
              "<IPython.core.display.Image object>"
            ]
          },
          "metadata": {
            "tags": []
          },
          "execution_count": 68
        }
      ]
    },
    {
      "cell_type": "code",
      "metadata": {
        "id": "2qbLt2L13fMM"
      },
      "source": [
        ""
      ],
      "execution_count": null,
      "outputs": []
    }
  ]
}