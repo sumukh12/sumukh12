{
  "nbformat": 4,
  "nbformat_minor": 0,
  "metadata": {
    "colab": {
      "name": "Sequential model deep learning",
      "provenance": [],
      "collapsed_sections": []
    },
    "kernelspec": {
      "name": "python3",
      "display_name": "Python 3"
    },
    "language_info": {
      "name": "python"
    }
  },
  "cells": [
    {
      "cell_type": "code",
      "metadata": {
        "id": "vadZ1eFAPy-b"
      },
      "source": [
        "import tensorflow as tf\n",
        "import pandas as pd\n",
        "import numpy as np\n",
        "import matplotlib.pyplot as plt\n",
        "from sklearn.datasets import load_iris\n",
        "from sklearn.model_selection import train_test_split\n"
      ],
      "execution_count": 44,
      "outputs": []
    },
    {
      "cell_type": "code",
      "metadata": {
        "id": "7b1VEeS-QokJ"
      },
      "source": [
        "iris=load_iris()"
      ],
      "execution_count": 45,
      "outputs": []
    },
    {
      "cell_type": "code",
      "metadata": {
        "id": "63gny6-fQzhv"
      },
      "source": [
        "#Loading into dataframe\n",
        "df=pd.DataFrame(iris.data,columns=iris.feature_names)"
      ],
      "execution_count": 46,
      "outputs": []
    },
    {
      "cell_type": "code",
      "metadata": {
        "colab": {
          "base_uri": "https://localhost:8080/",
          "height": 204
        },
        "id": "DwKSGlIyRAF3",
        "outputId": "e3e878a8-7c47-4bb5-a7a2-e454fe955ed6"
      },
      "source": [
        "df.head()"
      ],
      "execution_count": 47,
      "outputs": [
        {
          "output_type": "execute_result",
          "data": {
            "text/html": [
              "<div>\n",
              "<style scoped>\n",
              "    .dataframe tbody tr th:only-of-type {\n",
              "        vertical-align: middle;\n",
              "    }\n",
              "\n",
              "    .dataframe tbody tr th {\n",
              "        vertical-align: top;\n",
              "    }\n",
              "\n",
              "    .dataframe thead th {\n",
              "        text-align: right;\n",
              "    }\n",
              "</style>\n",
              "<table border=\"1\" class=\"dataframe\">\n",
              "  <thead>\n",
              "    <tr style=\"text-align: right;\">\n",
              "      <th></th>\n",
              "      <th>sepal length (cm)</th>\n",
              "      <th>sepal width (cm)</th>\n",
              "      <th>petal length (cm)</th>\n",
              "      <th>petal width (cm)</th>\n",
              "    </tr>\n",
              "  </thead>\n",
              "  <tbody>\n",
              "    <tr>\n",
              "      <th>0</th>\n",
              "      <td>5.1</td>\n",
              "      <td>3.5</td>\n",
              "      <td>1.4</td>\n",
              "      <td>0.2</td>\n",
              "    </tr>\n",
              "    <tr>\n",
              "      <th>1</th>\n",
              "      <td>4.9</td>\n",
              "      <td>3.0</td>\n",
              "      <td>1.4</td>\n",
              "      <td>0.2</td>\n",
              "    </tr>\n",
              "    <tr>\n",
              "      <th>2</th>\n",
              "      <td>4.7</td>\n",
              "      <td>3.2</td>\n",
              "      <td>1.3</td>\n",
              "      <td>0.2</td>\n",
              "    </tr>\n",
              "    <tr>\n",
              "      <th>3</th>\n",
              "      <td>4.6</td>\n",
              "      <td>3.1</td>\n",
              "      <td>1.5</td>\n",
              "      <td>0.2</td>\n",
              "    </tr>\n",
              "    <tr>\n",
              "      <th>4</th>\n",
              "      <td>5.0</td>\n",
              "      <td>3.6</td>\n",
              "      <td>1.4</td>\n",
              "      <td>0.2</td>\n",
              "    </tr>\n",
              "  </tbody>\n",
              "</table>\n",
              "</div>"
            ],
            "text/plain": [
              "   sepal length (cm)  sepal width (cm)  petal length (cm)  petal width (cm)\n",
              "0                5.1               3.5                1.4               0.2\n",
              "1                4.9               3.0                1.4               0.2\n",
              "2                4.7               3.2                1.3               0.2\n",
              "3                4.6               3.1                1.5               0.2\n",
              "4                5.0               3.6                1.4               0.2"
            ]
          },
          "metadata": {
            "tags": []
          },
          "execution_count": 47
        }
      ]
    },
    {
      "cell_type": "code",
      "metadata": {
        "colab": {
          "base_uri": "https://localhost:8080/",
          "height": 204
        },
        "id": "kVE2TPVZSHl5",
        "outputId": "a0b67d48-5ac0-4a2e-d6da-9d409f432709"
      },
      "source": [
        "#append target and name it label\n",
        "df['label']=iris.target\n",
        "df.head()"
      ],
      "execution_count": 48,
      "outputs": [
        {
          "output_type": "execute_result",
          "data": {
            "text/html": [
              "<div>\n",
              "<style scoped>\n",
              "    .dataframe tbody tr th:only-of-type {\n",
              "        vertical-align: middle;\n",
              "    }\n",
              "\n",
              "    .dataframe tbody tr th {\n",
              "        vertical-align: top;\n",
              "    }\n",
              "\n",
              "    .dataframe thead th {\n",
              "        text-align: right;\n",
              "    }\n",
              "</style>\n",
              "<table border=\"1\" class=\"dataframe\">\n",
              "  <thead>\n",
              "    <tr style=\"text-align: right;\">\n",
              "      <th></th>\n",
              "      <th>sepal length (cm)</th>\n",
              "      <th>sepal width (cm)</th>\n",
              "      <th>petal length (cm)</th>\n",
              "      <th>petal width (cm)</th>\n",
              "      <th>label</th>\n",
              "    </tr>\n",
              "  </thead>\n",
              "  <tbody>\n",
              "    <tr>\n",
              "      <th>0</th>\n",
              "      <td>5.1</td>\n",
              "      <td>3.5</td>\n",
              "      <td>1.4</td>\n",
              "      <td>0.2</td>\n",
              "      <td>0</td>\n",
              "    </tr>\n",
              "    <tr>\n",
              "      <th>1</th>\n",
              "      <td>4.9</td>\n",
              "      <td>3.0</td>\n",
              "      <td>1.4</td>\n",
              "      <td>0.2</td>\n",
              "      <td>0</td>\n",
              "    </tr>\n",
              "    <tr>\n",
              "      <th>2</th>\n",
              "      <td>4.7</td>\n",
              "      <td>3.2</td>\n",
              "      <td>1.3</td>\n",
              "      <td>0.2</td>\n",
              "      <td>0</td>\n",
              "    </tr>\n",
              "    <tr>\n",
              "      <th>3</th>\n",
              "      <td>4.6</td>\n",
              "      <td>3.1</td>\n",
              "      <td>1.5</td>\n",
              "      <td>0.2</td>\n",
              "      <td>0</td>\n",
              "    </tr>\n",
              "    <tr>\n",
              "      <th>4</th>\n",
              "      <td>5.0</td>\n",
              "      <td>3.6</td>\n",
              "      <td>1.4</td>\n",
              "      <td>0.2</td>\n",
              "      <td>0</td>\n",
              "    </tr>\n",
              "  </tbody>\n",
              "</table>\n",
              "</div>"
            ],
            "text/plain": [
              "   sepal length (cm)  sepal width (cm)  ...  petal width (cm)  label\n",
              "0                5.1               3.5  ...               0.2      0\n",
              "1                4.9               3.0  ...               0.2      0\n",
              "2                4.7               3.2  ...               0.2      0\n",
              "3                4.6               3.1  ...               0.2      0\n",
              "4                5.0               3.6  ...               0.2      0\n",
              "\n",
              "[5 rows x 5 columns]"
            ]
          },
          "metadata": {
            "tags": []
          },
          "execution_count": 48
        }
      ]
    },
    {
      "cell_type": "code",
      "metadata": {
        "colab": {
          "base_uri": "https://localhost:8080/",
          "height": 204
        },
        "id": "-Wn4BcRcRGRP",
        "outputId": "f3aef0dd-1cad-42ec-f9f8-c0081ec05547"
      },
      "source": [
        "#use string label instaed\n",
        "df['label']=df.label.replace(dict(enumerate(iris.target_names)))\n",
        "df.head()"
      ],
      "execution_count": 49,
      "outputs": [
        {
          "output_type": "execute_result",
          "data": {
            "text/html": [
              "<div>\n",
              "<style scoped>\n",
              "    .dataframe tbody tr th:only-of-type {\n",
              "        vertical-align: middle;\n",
              "    }\n",
              "\n",
              "    .dataframe tbody tr th {\n",
              "        vertical-align: top;\n",
              "    }\n",
              "\n",
              "    .dataframe thead th {\n",
              "        text-align: right;\n",
              "    }\n",
              "</style>\n",
              "<table border=\"1\" class=\"dataframe\">\n",
              "  <thead>\n",
              "    <tr style=\"text-align: right;\">\n",
              "      <th></th>\n",
              "      <th>sepal length (cm)</th>\n",
              "      <th>sepal width (cm)</th>\n",
              "      <th>petal length (cm)</th>\n",
              "      <th>petal width (cm)</th>\n",
              "      <th>label</th>\n",
              "    </tr>\n",
              "  </thead>\n",
              "  <tbody>\n",
              "    <tr>\n",
              "      <th>0</th>\n",
              "      <td>5.1</td>\n",
              "      <td>3.5</td>\n",
              "      <td>1.4</td>\n",
              "      <td>0.2</td>\n",
              "      <td>setosa</td>\n",
              "    </tr>\n",
              "    <tr>\n",
              "      <th>1</th>\n",
              "      <td>4.9</td>\n",
              "      <td>3.0</td>\n",
              "      <td>1.4</td>\n",
              "      <td>0.2</td>\n",
              "      <td>setosa</td>\n",
              "    </tr>\n",
              "    <tr>\n",
              "      <th>2</th>\n",
              "      <td>4.7</td>\n",
              "      <td>3.2</td>\n",
              "      <td>1.3</td>\n",
              "      <td>0.2</td>\n",
              "      <td>setosa</td>\n",
              "    </tr>\n",
              "    <tr>\n",
              "      <th>3</th>\n",
              "      <td>4.6</td>\n",
              "      <td>3.1</td>\n",
              "      <td>1.5</td>\n",
              "      <td>0.2</td>\n",
              "      <td>setosa</td>\n",
              "    </tr>\n",
              "    <tr>\n",
              "      <th>4</th>\n",
              "      <td>5.0</td>\n",
              "      <td>3.6</td>\n",
              "      <td>1.4</td>\n",
              "      <td>0.2</td>\n",
              "      <td>setosa</td>\n",
              "    </tr>\n",
              "  </tbody>\n",
              "</table>\n",
              "</div>"
            ],
            "text/plain": [
              "   sepal length (cm)  sepal width (cm)  ...  petal width (cm)   label\n",
              "0                5.1               3.5  ...               0.2  setosa\n",
              "1                4.9               3.0  ...               0.2  setosa\n",
              "2                4.7               3.2  ...               0.2  setosa\n",
              "3                4.6               3.1  ...               0.2  setosa\n",
              "4                5.0               3.6  ...               0.2  setosa\n",
              "\n",
              "[5 rows x 5 columns]"
            ]
          },
          "metadata": {
            "tags": []
          },
          "execution_count": 49
        }
      ]
    },
    {
      "cell_type": "code",
      "metadata": {
        "id": "mA7JzWCHSGNM"
      },
      "source": [
        "#Preparing data for keras and tensorflow"
      ],
      "execution_count": 50,
      "outputs": []
    },
    {
      "cell_type": "code",
      "metadata": {
        "colab": {
          "base_uri": "https://localhost:8080/",
          "height": 204
        },
        "id": "_frBNUbMRvFn",
        "outputId": "dc9f2621-f5ef-4422-e794-e81cbefdff9d"
      },
      "source": [
        "#label one hot encoding\n",
        "label=pd.get_dummies(df['label'])\n",
        "label.columns=['label_' +str(x)for x in label.columns]\n",
        "df=pd.concat([df,label],axis=1)\n",
        "df.head()"
      ],
      "execution_count": 51,
      "outputs": [
        {
          "output_type": "execute_result",
          "data": {
            "text/html": [
              "<div>\n",
              "<style scoped>\n",
              "    .dataframe tbody tr th:only-of-type {\n",
              "        vertical-align: middle;\n",
              "    }\n",
              "\n",
              "    .dataframe tbody tr th {\n",
              "        vertical-align: top;\n",
              "    }\n",
              "\n",
              "    .dataframe thead th {\n",
              "        text-align: right;\n",
              "    }\n",
              "</style>\n",
              "<table border=\"1\" class=\"dataframe\">\n",
              "  <thead>\n",
              "    <tr style=\"text-align: right;\">\n",
              "      <th></th>\n",
              "      <th>sepal length (cm)</th>\n",
              "      <th>sepal width (cm)</th>\n",
              "      <th>petal length (cm)</th>\n",
              "      <th>petal width (cm)</th>\n",
              "      <th>label</th>\n",
              "      <th>label_setosa</th>\n",
              "      <th>label_versicolor</th>\n",
              "      <th>label_virginica</th>\n",
              "    </tr>\n",
              "  </thead>\n",
              "  <tbody>\n",
              "    <tr>\n",
              "      <th>0</th>\n",
              "      <td>5.1</td>\n",
              "      <td>3.5</td>\n",
              "      <td>1.4</td>\n",
              "      <td>0.2</td>\n",
              "      <td>setosa</td>\n",
              "      <td>1</td>\n",
              "      <td>0</td>\n",
              "      <td>0</td>\n",
              "    </tr>\n",
              "    <tr>\n",
              "      <th>1</th>\n",
              "      <td>4.9</td>\n",
              "      <td>3.0</td>\n",
              "      <td>1.4</td>\n",
              "      <td>0.2</td>\n",
              "      <td>setosa</td>\n",
              "      <td>1</td>\n",
              "      <td>0</td>\n",
              "      <td>0</td>\n",
              "    </tr>\n",
              "    <tr>\n",
              "      <th>2</th>\n",
              "      <td>4.7</td>\n",
              "      <td>3.2</td>\n",
              "      <td>1.3</td>\n",
              "      <td>0.2</td>\n",
              "      <td>setosa</td>\n",
              "      <td>1</td>\n",
              "      <td>0</td>\n",
              "      <td>0</td>\n",
              "    </tr>\n",
              "    <tr>\n",
              "      <th>3</th>\n",
              "      <td>4.6</td>\n",
              "      <td>3.1</td>\n",
              "      <td>1.5</td>\n",
              "      <td>0.2</td>\n",
              "      <td>setosa</td>\n",
              "      <td>1</td>\n",
              "      <td>0</td>\n",
              "      <td>0</td>\n",
              "    </tr>\n",
              "    <tr>\n",
              "      <th>4</th>\n",
              "      <td>5.0</td>\n",
              "      <td>3.6</td>\n",
              "      <td>1.4</td>\n",
              "      <td>0.2</td>\n",
              "      <td>setosa</td>\n",
              "      <td>1</td>\n",
              "      <td>0</td>\n",
              "      <td>0</td>\n",
              "    </tr>\n",
              "  </tbody>\n",
              "</table>\n",
              "</div>"
            ],
            "text/plain": [
              "   sepal length (cm)  sepal width (cm)  ...  label_versicolor  label_virginica\n",
              "0                5.1               3.5  ...                 0                0\n",
              "1                4.9               3.0  ...                 0                0\n",
              "2                4.7               3.2  ...                 0                0\n",
              "3                4.6               3.1  ...                 0                0\n",
              "4                5.0               3.6  ...                 0                0\n",
              "\n",
              "[5 rows x 8 columns]"
            ]
          },
          "metadata": {
            "tags": []
          },
          "execution_count": 51
        }
      ]
    },
    {
      "cell_type": "markdown",
      "metadata": {
        "id": "81Fw__sWSho5"
      },
      "source": [
        "\n",
        "drop the label columns\n",
        "```\n",
        "# This is formatted as code\n",
        "```\n",
        "\n"
      ]
    },
    {
      "cell_type": "code",
      "metadata": {
        "colab": {
          "base_uri": "https://localhost:8080/",
          "height": 204
        },
        "id": "COrwKiFVT4vZ",
        "outputId": "7e7028ba-8f6f-463b-f2f9-8d5034be7704"
      },
      "source": [
        "df.head()"
      ],
      "execution_count": 52,
      "outputs": [
        {
          "output_type": "execute_result",
          "data": {
            "text/html": [
              "<div>\n",
              "<style scoped>\n",
              "    .dataframe tbody tr th:only-of-type {\n",
              "        vertical-align: middle;\n",
              "    }\n",
              "\n",
              "    .dataframe tbody tr th {\n",
              "        vertical-align: top;\n",
              "    }\n",
              "\n",
              "    .dataframe thead th {\n",
              "        text-align: right;\n",
              "    }\n",
              "</style>\n",
              "<table border=\"1\" class=\"dataframe\">\n",
              "  <thead>\n",
              "    <tr style=\"text-align: right;\">\n",
              "      <th></th>\n",
              "      <th>sepal length (cm)</th>\n",
              "      <th>sepal width (cm)</th>\n",
              "      <th>petal length (cm)</th>\n",
              "      <th>petal width (cm)</th>\n",
              "      <th>label</th>\n",
              "      <th>label_setosa</th>\n",
              "      <th>label_versicolor</th>\n",
              "      <th>label_virginica</th>\n",
              "    </tr>\n",
              "  </thead>\n",
              "  <tbody>\n",
              "    <tr>\n",
              "      <th>0</th>\n",
              "      <td>5.1</td>\n",
              "      <td>3.5</td>\n",
              "      <td>1.4</td>\n",
              "      <td>0.2</td>\n",
              "      <td>setosa</td>\n",
              "      <td>1</td>\n",
              "      <td>0</td>\n",
              "      <td>0</td>\n",
              "    </tr>\n",
              "    <tr>\n",
              "      <th>1</th>\n",
              "      <td>4.9</td>\n",
              "      <td>3.0</td>\n",
              "      <td>1.4</td>\n",
              "      <td>0.2</td>\n",
              "      <td>setosa</td>\n",
              "      <td>1</td>\n",
              "      <td>0</td>\n",
              "      <td>0</td>\n",
              "    </tr>\n",
              "    <tr>\n",
              "      <th>2</th>\n",
              "      <td>4.7</td>\n",
              "      <td>3.2</td>\n",
              "      <td>1.3</td>\n",
              "      <td>0.2</td>\n",
              "      <td>setosa</td>\n",
              "      <td>1</td>\n",
              "      <td>0</td>\n",
              "      <td>0</td>\n",
              "    </tr>\n",
              "    <tr>\n",
              "      <th>3</th>\n",
              "      <td>4.6</td>\n",
              "      <td>3.1</td>\n",
              "      <td>1.5</td>\n",
              "      <td>0.2</td>\n",
              "      <td>setosa</td>\n",
              "      <td>1</td>\n",
              "      <td>0</td>\n",
              "      <td>0</td>\n",
              "    </tr>\n",
              "    <tr>\n",
              "      <th>4</th>\n",
              "      <td>5.0</td>\n",
              "      <td>3.6</td>\n",
              "      <td>1.4</td>\n",
              "      <td>0.2</td>\n",
              "      <td>setosa</td>\n",
              "      <td>1</td>\n",
              "      <td>0</td>\n",
              "      <td>0</td>\n",
              "    </tr>\n",
              "  </tbody>\n",
              "</table>\n",
              "</div>"
            ],
            "text/plain": [
              "   sepal length (cm)  sepal width (cm)  ...  label_versicolor  label_virginica\n",
              "0                5.1               3.5  ...                 0                0\n",
              "1                4.9               3.0  ...                 0                0\n",
              "2                4.7               3.2  ...                 0                0\n",
              "3                4.6               3.1  ...                 0                0\n",
              "4                5.0               3.6  ...                 0                0\n",
              "\n",
              "[5 rows x 8 columns]"
            ]
          },
          "metadata": {
            "tags": []
          },
          "execution_count": 52
        }
      ]
    },
    {
      "cell_type": "code",
      "metadata": {
        "id": "QCHk4AkIT6RP"
      },
      "source": [
        "#Creating x and y\n",
        "X=df[['sepal length (cm)','sepal width (cm)','petal length (cm)','petal width (cm)']]\n",
        "#converting dataframe into np array\n",
        "X=np.asarray(X)\n",
        "\n",
        "y=df[['label_setosa','label_versicolor','label_virginica',]]\n",
        "#covert dataframe into nparray\n",
        "y=np.asarray(y)"
      ],
      "execution_count": 53,
      "outputs": []
    },
    {
      "cell_type": "code",
      "metadata": {
        "colab": {
          "base_uri": "https://localhost:8080/"
        },
        "id": "QHuVNBMxUSPj",
        "outputId": "1b15c40a-caae-4361-c6f6-5da0c65f2964"
      },
      "source": [
        "print(X[:10])\n",
        "print(y[:10])"
      ],
      "execution_count": 54,
      "outputs": [
        {
          "output_type": "stream",
          "text": [
            "[[5.1 3.5 1.4 0.2]\n",
            " [4.9 3.  1.4 0.2]\n",
            " [4.7 3.2 1.3 0.2]\n",
            " [4.6 3.1 1.5 0.2]\n",
            " [5.  3.6 1.4 0.2]\n",
            " [5.4 3.9 1.7 0.4]\n",
            " [4.6 3.4 1.4 0.3]\n",
            " [5.  3.4 1.5 0.2]\n",
            " [4.4 2.9 1.4 0.2]\n",
            " [4.9 3.1 1.5 0.1]]\n",
            "[[1 0 0]\n",
            " [1 0 0]\n",
            " [1 0 0]\n",
            " [1 0 0]\n",
            " [1 0 0]\n",
            " [1 0 0]\n",
            " [1 0 0]\n",
            " [1 0 0]\n",
            " [1 0 0]\n",
            " [1 0 0]]\n"
          ],
          "name": "stdout"
        }
      ]
    },
    {
      "cell_type": "code",
      "metadata": {
        "id": "EL32T-aPWgNT"
      },
      "source": [
        "#splitting the data in training(75%)remaining(25%)\n",
        "X_train,X_test,y_train,y_test=train_test_split(X,y,test_size=0.25)"
      ],
      "execution_count": 55,
      "outputs": []
    },
    {
      "cell_type": "code",
      "metadata": {
        "id": "-E2heCyCXIB7"
      },
      "source": [
        "#Sequential Model"
      ],
      "execution_count": 56,
      "outputs": []
    },
    {
      "cell_type": "code",
      "metadata": {
        "id": "JZVld0mbXTU5"
      },
      "source": [
        "from tensorflow.keras.models import Sequential\n",
        "from tensorflow.keras.layers import Dense"
      ],
      "execution_count": 57,
      "outputs": []
    },
    {
      "cell_type": "code",
      "metadata": {
        "colab": {
          "base_uri": "https://localhost:8080/"
        },
        "id": "npYYHiolYGUJ",
        "outputId": "71f10855-04d9-4298-e712-8f591e06deaf"
      },
      "source": [
        "model=Sequential([\n",
        "              Dense(5,activation='relu',input_shape=(4,)),\n",
        "              Dense(10,activation='relu'),\n",
        "              Dense(3,activation='softmax'),\n",
        "])\n",
        "model.summary()"
      ],
      "execution_count": 58,
      "outputs": [
        {
          "output_type": "stream",
          "text": [
            "Model: \"sequential_2\"\n",
            "_________________________________________________________________\n",
            "Layer (type)                 Output Shape              Param #   \n",
            "=================================================================\n",
            "dense_6 (Dense)              (None, 5)                 25        \n",
            "_________________________________________________________________\n",
            "dense_7 (Dense)              (None, 10)                60        \n",
            "_________________________________________________________________\n",
            "dense_8 (Dense)              (None, 3)                 33        \n",
            "=================================================================\n",
            "Total params: 118\n",
            "Trainable params: 118\n",
            "Non-trainable params: 0\n",
            "_________________________________________________________________\n"
          ],
          "name": "stdout"
        }
      ]
    },
    {
      "cell_type": "code",
      "metadata": {
        "colab": {
          "base_uri": "https://localhost:8080/"
        },
        "id": "PgR3bLTIYKY7",
        "outputId": "c70990ef-84a9-4bcd-e952-c2883aa8662b"
      },
      "source": [
        "#adding layer via add method\n",
        "model_seq=Sequential()\n",
        "model_seq.add(Dense(5,activation='relu',input_shape=(4,)))\n",
        "model_seq.add(Dense(10,activation='relu'))\n",
        "model_seq.add(Dense(3,activation='softmax'))\n",
        "model_seq.summary()"
      ],
      "execution_count": 59,
      "outputs": [
        {
          "output_type": "stream",
          "text": [
            "Model: \"sequential_3\"\n",
            "_________________________________________________________________\n",
            "Layer (type)                 Output Shape              Param #   \n",
            "=================================================================\n",
            "dense_9 (Dense)              (None, 5)                 25        \n",
            "_________________________________________________________________\n",
            "dense_10 (Dense)             (None, 10)                60        \n",
            "_________________________________________________________________\n",
            "dense_11 (Dense)             (None, 3)                 33        \n",
            "=================================================================\n",
            "Total params: 118\n",
            "Trainable params: 118\n",
            "Non-trainable params: 0\n",
            "_________________________________________________________________\n"
          ],
          "name": "stdout"
        }
      ]
    },
    {
      "cell_type": "code",
      "metadata": {
        "id": "xOYCyduzbv4K"
      },
      "source": [
        "model_seq.compile(\n",
        "    #optimizer rnsprop\n",
        "    optimizer='adam',\n",
        "    loss='categorical_crossentropy',\n",
        "    metrics=['accuracy']\n",
        ")"
      ],
      "execution_count": 60,
      "outputs": []
    },
    {
      "cell_type": "code",
      "metadata": {
        "colab": {
          "base_uri": "https://localhost:8080/"
        },
        "id": "H-e6AKafcSzr",
        "outputId": "7ded4752-45f8-49fb-956b-e682194c01a9"
      },
      "source": [
        "history=model_seq.fit(X_train,y_train,\n",
        "                      batch_size=64,\n",
        "                      epochs=30,\n",
        "                      validation_split=0.2)"
      ],
      "execution_count": 61,
      "outputs": [
        {
          "output_type": "stream",
          "text": [
            "Epoch 1/30\n",
            "2/2 [==============================] - 1s 215ms/step - loss: 2.2246 - accuracy: 0.3258 - val_loss: 1.9276 - val_accuracy: 0.3043\n",
            "Epoch 2/30\n",
            "2/2 [==============================] - 0s 22ms/step - loss: 2.1754 - accuracy: 0.3258 - val_loss: 1.8829 - val_accuracy: 0.3043\n",
            "Epoch 3/30\n",
            "2/2 [==============================] - 0s 26ms/step - loss: 2.1265 - accuracy: 0.3258 - val_loss: 1.8392 - val_accuracy: 0.3043\n",
            "Epoch 4/30\n",
            "2/2 [==============================] - 0s 28ms/step - loss: 2.0808 - accuracy: 0.3258 - val_loss: 1.7966 - val_accuracy: 0.3043\n",
            "Epoch 5/30\n",
            "2/2 [==============================] - 0s 23ms/step - loss: 2.0320 - accuracy: 0.3258 - val_loss: 1.7552 - val_accuracy: 0.3043\n",
            "Epoch 6/30\n",
            "2/2 [==============================] - 0s 24ms/step - loss: 1.9860 - accuracy: 0.3258 - val_loss: 1.7146 - val_accuracy: 0.3043\n",
            "Epoch 7/30\n",
            "2/2 [==============================] - 0s 23ms/step - loss: 1.9409 - accuracy: 0.3258 - val_loss: 1.6747 - val_accuracy: 0.3043\n",
            "Epoch 8/30\n",
            "2/2 [==============================] - 0s 22ms/step - loss: 1.8989 - accuracy: 0.3258 - val_loss: 1.6358 - val_accuracy: 0.3043\n",
            "Epoch 9/30\n",
            "2/2 [==============================] - 0s 22ms/step - loss: 1.8554 - accuracy: 0.3258 - val_loss: 1.5982 - val_accuracy: 0.3043\n",
            "Epoch 10/30\n",
            "2/2 [==============================] - 0s 29ms/step - loss: 1.8139 - accuracy: 0.3258 - val_loss: 1.5616 - val_accuracy: 0.3043\n",
            "Epoch 11/30\n",
            "2/2 [==============================] - 0s 24ms/step - loss: 1.7716 - accuracy: 0.3258 - val_loss: 1.5262 - val_accuracy: 0.3043\n",
            "Epoch 12/30\n",
            "2/2 [==============================] - 0s 23ms/step - loss: 1.7329 - accuracy: 0.3258 - val_loss: 1.4919 - val_accuracy: 0.3043\n",
            "Epoch 13/30\n",
            "2/2 [==============================] - 0s 49ms/step - loss: 1.6948 - accuracy: 0.3258 - val_loss: 1.4586 - val_accuracy: 0.3043\n",
            "Epoch 14/30\n",
            "2/2 [==============================] - 0s 42ms/step - loss: 1.6572 - accuracy: 0.3258 - val_loss: 1.4265 - val_accuracy: 0.3043\n",
            "Epoch 15/30\n",
            "2/2 [==============================] - 0s 38ms/step - loss: 1.6196 - accuracy: 0.3258 - val_loss: 1.3953 - val_accuracy: 0.3043\n",
            "Epoch 16/30\n",
            "2/2 [==============================] - 0s 40ms/step - loss: 1.5853 - accuracy: 0.3258 - val_loss: 1.3651 - val_accuracy: 0.3043\n",
            "Epoch 17/30\n",
            "2/2 [==============================] - 0s 30ms/step - loss: 1.5496 - accuracy: 0.3258 - val_loss: 1.3359 - val_accuracy: 0.3043\n",
            "Epoch 18/30\n",
            "2/2 [==============================] - 0s 25ms/step - loss: 1.5159 - accuracy: 0.3258 - val_loss: 1.3077 - val_accuracy: 0.3043\n",
            "Epoch 19/30\n",
            "2/2 [==============================] - 0s 25ms/step - loss: 1.4829 - accuracy: 0.3258 - val_loss: 1.2802 - val_accuracy: 0.3043\n",
            "Epoch 20/30\n",
            "2/2 [==============================] - 0s 29ms/step - loss: 1.4523 - accuracy: 0.3258 - val_loss: 1.2536 - val_accuracy: 0.3043\n",
            "Epoch 21/30\n",
            "2/2 [==============================] - 0s 28ms/step - loss: 1.4208 - accuracy: 0.3258 - val_loss: 1.2281 - val_accuracy: 0.3043\n",
            "Epoch 22/30\n",
            "2/2 [==============================] - 0s 28ms/step - loss: 1.3904 - accuracy: 0.3258 - val_loss: 1.2038 - val_accuracy: 0.3043\n",
            "Epoch 23/30\n",
            "2/2 [==============================] - 0s 39ms/step - loss: 1.3627 - accuracy: 0.3258 - val_loss: 1.1805 - val_accuracy: 0.3043\n",
            "Epoch 24/30\n",
            "2/2 [==============================] - 0s 57ms/step - loss: 1.3324 - accuracy: 0.3258 - val_loss: 1.1584 - val_accuracy: 0.3043\n",
            "Epoch 25/30\n",
            "2/2 [==============================] - 0s 26ms/step - loss: 1.3080 - accuracy: 0.3258 - val_loss: 1.1371 - val_accuracy: 0.3043\n",
            "Epoch 26/30\n",
            "2/2 [==============================] - 0s 23ms/step - loss: 1.2807 - accuracy: 0.3258 - val_loss: 1.1171 - val_accuracy: 0.3043\n",
            "Epoch 27/30\n",
            "2/2 [==============================] - 0s 23ms/step - loss: 1.2573 - accuracy: 0.3258 - val_loss: 1.0979 - val_accuracy: 0.3043\n",
            "Epoch 28/30\n",
            "2/2 [==============================] - 0s 24ms/step - loss: 1.2337 - accuracy: 0.3258 - val_loss: 1.0802 - val_accuracy: 0.3043\n",
            "Epoch 29/30\n",
            "2/2 [==============================] - 0s 24ms/step - loss: 1.2113 - accuracy: 0.3258 - val_loss: 1.0643 - val_accuracy: 0.3043\n",
            "Epoch 30/30\n",
            "2/2 [==============================] - 0s 28ms/step - loss: 1.1909 - accuracy: 0.3258 - val_loss: 1.0495 - val_accuracy: 0.3043\n"
          ],
          "name": "stdout"
        }
      ]
    },
    {
      "cell_type": "code",
      "metadata": {
        "id": "fY76gNrPe015"
      },
      "source": [
        "def plot_metric(history,metrics):\n",
        "  train_metrics=history.history[metrics]\n",
        "  val_metrics=history.history['val_'+metrics]\n",
        "  epochs=range(1,len(train_metrics)+1)\n",
        "  plt.plot(epochs,train_metrics,'bo--')\n",
        "  plt.plot(epochs,val_metrics,'ro--')\n",
        "  plt.title('Training and validation'+metrics)\n",
        "  plt.xlabel('Epochs')\n",
        "  plt.ylabel(metrics)\n",
        "  plt.legend(['train_'+metrics,'val_'+metrics])\n",
        "  plt.show()\n"
      ],
      "execution_count": 62,
      "outputs": []
    },
    {
      "cell_type": "code",
      "metadata": {
        "colab": {
          "base_uri": "https://localhost:8080/",
          "height": 295
        },
        "id": "WbNiIy17gdXy",
        "outputId": "4ab464cb-3e08-40c3-a550-54ecc2498620"
      },
      "source": [
        "plot_metric(history,'loss')"
      ],
      "execution_count": 65,
      "outputs": [
        {
          "output_type": "display_data",
          "data": {
            "image/png": "[encoded data removed]",
            "text/plain": [
              "<Figure size 432x288 with 1 Axes>"
            ]
          },
          "metadata": {
            "tags": [],
            "needs_background": "light"
          }
        }
      ]
    },
    {
      "cell_type": "code",
      "metadata": {
        "colab": {
          "base_uri": "https://localhost:8080/"
        },
        "id": "kV9CIDnuglHe",
        "outputId": "836068c5-723d-4e8f-a17c-f858742c60c2"
      },
      "source": [
        "history.history"
      ],
      "execution_count": 66,
      "outputs": [
        {
          "output_type": "execute_result",
          "data": {
            "text/plain": [
              "{'accuracy': [0.3258427083492279,\n",
              "  0.3258427083492279,\n",
              "  0.3258427083492279,\n",
              "  0.3258427083492279,\n",
              "  0.3258427083492279,\n",
              "  0.3258427083492279,\n",
              "  0.3258427083492279,\n",
              "  0.3258427083492279,\n",
              "  0.3258427083492279,\n",
              "  0.3258427083492279,\n",
              "  0.3258427083492279,\n",
              "  0.3258427083492279,\n",
              "  0.3258427083492279,\n",
              "  0.3258427083492279,\n",
              "  0.3258427083492279,\n",
              "  0.3258427083492279,\n",
              "  0.3258427083492279,\n",
              "  0.3258427083492279,\n",
              "  0.3258427083492279,\n",
              "  0.3258427083492279,\n",
              "  0.3258427083492279,\n",
              "  0.3258427083492279,\n",
              "  0.3258427083492279,\n",
              "  0.3258427083492279,\n",
              "  0.3258427083492279,\n",
              "  0.3258427083492279,\n",
              "  0.3258427083492279,\n",
              "  0.3258427083492279,\n",
              "  0.3258427083492279,\n",
              "  0.3258427083492279],\n",
              " 'loss': [2.224649667739868,\n",
              "  2.1753554344177246,\n",
              "  2.1265151500701904,\n",
              "  2.0807886123657227,\n",
              "  2.031951904296875,\n",
              "  1.9859826564788818,\n",
              "  1.9409304857254028,\n",
              "  1.8989394903182983,\n",
              "  1.8554078340530396,\n",
              "  1.8139381408691406,\n",
              "  1.7715623378753662,\n",
              "  1.7328797578811646,\n",
              "  1.694800615310669,\n",
              "  1.6571729183197021,\n",
              "  1.6196374893188477,\n",
              "  1.5853419303894043,\n",
              "  1.5496091842651367,\n",
              "  1.5158641338348389,\n",
              "  1.4828526973724365,\n",
              "  1.4522581100463867,\n",
              "  1.4208263158798218,\n",
              "  1.390375018119812,\n",
              "  1.3626623153686523,\n",
              "  1.332390308380127,\n",
              "  1.3080466985702515,\n",
              "  1.280712604522705,\n",
              "  1.2573444843292236,\n",
              "  1.2337266206741333,\n",
              "  1.2112821340560913,\n",
              "  1.1908515691757202],\n",
              " 'val_accuracy': [0.30434781312942505,\n",
              "  0.30434781312942505,\n",
              "  0.30434781312942505,\n",
              "  0.30434781312942505,\n",
              "  0.30434781312942505,\n",
              "  0.30434781312942505,\n",
              "  0.30434781312942505,\n",
              "  0.30434781312942505,\n",
              "  0.30434781312942505,\n",
              "  0.30434781312942505,\n",
              "  0.30434781312942505,\n",
              "  0.30434781312942505,\n",
              "  0.30434781312942505,\n",
              "  0.30434781312942505,\n",
              "  0.30434781312942505,\n",
              "  0.30434781312942505,\n",
              "  0.30434781312942505,\n",
              "  0.30434781312942505,\n",
              "  0.30434781312942505,\n",
              "  0.30434781312942505,\n",
              "  0.30434781312942505,\n",
              "  0.30434781312942505,\n",
              "  0.30434781312942505,\n",
              "  0.30434781312942505,\n",
              "  0.30434781312942505,\n",
              "  0.30434781312942505,\n",
              "  0.30434781312942505,\n",
              "  0.30434781312942505,\n",
              "  0.30434781312942505,\n",
              "  0.30434781312942505],\n",
              " 'val_loss': [1.927577018737793,\n",
              "  1.8828977346420288,\n",
              "  1.8392008543014526,\n",
              "  1.7965872287750244,\n",
              "  1.755172610282898,\n",
              "  1.7145594358444214,\n",
              "  1.6747008562088013,\n",
              "  1.6358120441436768,\n",
              "  1.5981560945510864,\n",
              "  1.5615960359573364,\n",
              "  1.5262467861175537,\n",
              "  1.4918546676635742,\n",
              "  1.45859956741333,\n",
              "  1.4264572858810425,\n",
              "  1.395310640335083,\n",
              "  1.3650842905044556,\n",
              "  1.3359476327896118,\n",
              "  1.3076611757278442,\n",
              "  1.2802077531814575,\n",
              "  1.253556489944458,\n",
              "  1.2281324863433838,\n",
              "  1.2038463354110718,\n",
              "  1.1805496215820312,\n",
              "  1.1583727598190308,\n",
              "  1.1371484994888306,\n",
              "  1.1171233654022217,\n",
              "  1.0978740453720093,\n",
              "  1.0801517963409424,\n",
              "  1.0643153190612793,\n",
              "  1.0495293140411377]}"
            ]
          },
          "metadata": {
            "tags": []
          },
          "execution_count": 66
        }
      ]
    },
    {
      "cell_type": "code",
      "metadata": {
        "colab": {
          "base_uri": "https://localhost:8080/",
          "height": 295
        },
        "id": "BIb_NVI9g6fI",
        "outputId": "b5cb4c24-a649-4e88-928a-ab56219d171e"
      },
      "source": [
        "plot_metric(history,'accuracy')"
      ],
      "execution_count": 68,
      "outputs": [
        {
          "output_type": "display_data",
          "data": {
            "image/png": "[encoded data removed]",
            "text/plain": [
              "<Figure size 432x288 with 1 Axes>"
            ]
          },
          "metadata": {
            "tags": [],
            "needs_background": "light"
          }
        }
      ]
    },
    {
      "cell_type": "code",
      "metadata": {
        "colab": {
          "base_uri": "https://localhost:8080/"
        },
        "id": "8DfUiAXrg8_P",
        "outputId": "00f8eb1b-8142-4f67-ff9d-179ca31fa0e2"
      },
      "source": [
        "model_seq.evaluate(x=X_test,y=y_test)"
      ],
      "execution_count": 69,
      "outputs": [
        {
          "output_type": "stream",
          "text": [
            "2/2 [==============================] - 0s 8ms/step - loss: 1.0703 - accuracy: 0.3684\n"
          ],
          "name": "stdout"
        },
        {
          "output_type": "execute_result",
          "data": {
            "text/plain": [
              "[1.0702803134918213, 0.3684210479259491]"
            ]
          },
          "metadata": {
            "tags": []
          },
          "execution_count": 69
        }
      ]
    },
    {
      "cell_type": "code",
      "metadata": {
        "id": "7aiqa8G-hfS2"
      },
      "source": [
        ""
      ],
      "execution_count": null,
      "outputs": []
    }
  ]
}