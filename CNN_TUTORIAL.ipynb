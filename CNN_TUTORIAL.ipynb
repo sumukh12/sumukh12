{
  "nbformat": 4,
  "nbformat_minor": 0,
  "metadata": {
    "colab": {
      "name": "CNN_TUTORIAL",
      "provenance": [],
      "collapsed_sections": []
    },
    "kernelspec": {
      "name": "python3",
      "display_name": "Python 3"
    },
    "language_info": {
      "name": "python"
    }
  },
  "cells": [
    {
      "cell_type": "code",
      "metadata": {
        "id": "M2W_2Nwn-uD1"
      },
      "source": [
        "from tensorflow.keras.layers import Conv2D,MaxPooling2D,Dense,Dropout,Activation,Flatten,Input\n",
        "from tensorflow.keras import models\n",
        "import numpy as np\n",
        "import matplotlib.pyplot as plt\n",
        "import tensorflow as tf\n",
        "import pickle as pkl"
      ],
      "execution_count": 59,
      "outputs": []
    },
    {
      "cell_type": "code",
      "metadata": {
        "id": "YMaz3_bPBhBp",
        "colab": {
          "base_uri": "https://localhost:8080/"
        },
        "outputId": "72b27780-baaa-4656-f38e-3b3e974c37e0"
      },
      "source": [
        "mnist=tf.keras.datasets.mnist\n",
        "(x_train,y_train),(x_test,y_test)=mnist.load_data()\n",
        "print(x_train.shape,x_test.shape)"
      ],
      "execution_count": 60,
      "outputs": [
        {
          "output_type": "stream",
          "text": [
            "(60000, 28, 28) (10000, 28, 28)\n"
          ],
          "name": "stdout"
        }
      ]
    },
    {
      "cell_type": "code",
      "metadata": {
        "colab": {
          "base_uri": "https://localhost:8080/",
          "height": 282
        },
        "id": "bnl7Dzyl7pyM",
        "outputId": "46241d23-44a0-4ad5-9ecf-f17fc33a58c8"
      },
      "source": [
        "plt.imshow(x_train[78],cmap='gray')"
      ],
      "execution_count": 61,
      "outputs": [
        {
          "output_type": "execute_result",
          "data": {
            "text/plain": [
              "<matplotlib.image.AxesImage at 0x7f9ba6196510>"
            ]
          },
          "metadata": {
            "tags": []
          },
          "execution_count": 61
        },
        {
          "output_type": "display_data",
          "data": {
            "image/png": "[encoded data removed]",
            "text/plain": [
              "<Figure size 432x288 with 1 Axes>"
            ]
          },
          "metadata": {
            "tags": [],
            "needs_background": "light"
          }
        }
      ]
    },
    {
      "cell_type": "code",
      "metadata": {
        "id": "M3nt-RgI706x"
      },
      "source": [
        "x_train,x_test=x_train/255.0,x_test/255.0"
      ],
      "execution_count": 62,
      "outputs": []
    },
    {
      "cell_type": "code",
      "metadata": {
        "colab": {
          "base_uri": "https://localhost:8080/"
        },
        "id": "gOb8QBr_9Pcq",
        "outputId": "ab484831-6aac-499a-b9f1-cc449ef9e87c"
      },
      "source": [
        "x_train,x_test=np.expand_dims(x_train,axis=1),np.expand_dims(x_test,axis=1)\n",
        "print(x_train.shape)\n",
        "print(x_test.shape)"
      ],
      "execution_count": 63,
      "outputs": [
        {
          "output_type": "stream",
          "text": [
            "(60000, 1, 28, 28)\n",
            "(10000, 1, 28, 28)\n"
          ],
          "name": "stdout"
        }
      ]
    },
    {
      "cell_type": "code",
      "metadata": {
        "colab": {
          "base_uri": "https://localhost:8080/"
        },
        "id": "-24-pb4x9zg-",
        "outputId": "12392880-b0f3-4386-d1b2-1f85126a40d4"
      },
      "source": [
        "inputs=Input(shape=(28,28,1))\n",
        "conv1=Conv2D(32,(3,3),padding='valid',activation='relu',name='conv1')(inputs)\n",
        "max1=MaxPooling2D((2,2),(2,2),name='maxpool_1')(conv1)\n",
        "\n",
        "conv2=Conv2D(64,(3,3),padding='valid',activation='relu',name='conv2')(max1)\n",
        "max2=MaxPooling2D((2,2),(2,2),name='maxpool_2')(conv2)\n",
        "\n",
        "conv3=Conv2D(128,(3,3),padding='valid',activation='relu',name='conv3')(max2)\n",
        "\n",
        "flatten=Flatten(name='flatten')(conv3)\n",
        "dense1=Dense(128,activation='relu',name='dense1')(flatten)\n",
        "\n",
        "outputs=Dense(10,activation='softmax',name='output')(dense1)\n",
        "model=models.Model(inputs,outputs)\n",
        "model.summary()"
      ],
      "execution_count": 64,
      "outputs": [
        {
          "output_type": "stream",
          "text": [
            "Model: \"model_5\"\n",
            "_________________________________________________________________\n",
            "Layer (type)                 Output Shape              Param #   \n",
            "=================================================================\n",
            "input_6 (InputLayer)         [(None, 28, 28, 1)]       0         \n",
            "_________________________________________________________________\n",
            "conv1 (Conv2D)               (None, 26, 26, 32)        320       \n",
            "_________________________________________________________________\n",
            "maxpool_1 (MaxPooling2D)     (None, 13, 13, 32)        0         \n",
            "_________________________________________________________________\n",
            "conv2 (Conv2D)               (None, 11, 11, 64)        18496     \n",
            "_________________________________________________________________\n",
            "maxpool_2 (MaxPooling2D)     (None, 5, 5, 64)          0         \n",
            "_________________________________________________________________\n",
            "conv3 (Conv2D)               (None, 3, 3, 128)         73856     \n",
            "_________________________________________________________________\n",
            "flatten (Flatten)            (None, 1152)              0         \n",
            "_________________________________________________________________\n",
            "dense1 (Dense)               (None, 128)               147584    \n",
            "_________________________________________________________________\n",
            "output (Dense)               (None, 10)                1290      \n",
            "=================================================================\n",
            "Total params: 241,546\n",
            "Trainable params: 241,546\n",
            "Non-trainable params: 0\n",
            "_________________________________________________________________\n"
          ],
          "name": "stdout"
        }
      ]
    },
    {
      "cell_type": "code",
      "metadata": {
        "id": "dlrZwxtUANIB"
      },
      "source": [
        "model.compile(optimizer='adam',\n",
        "              loss='sparse_categorical_crossentropy',\n",
        "              metrics=['accuracy'])"
      ],
      "execution_count": 65,
      "outputs": []
    },
    {
      "cell_type": "code",
      "metadata": {
        "id": "o5G966f0HH0P"
      },
      "source": [
        "model.fit(x_train,y_train,epochs=3)"
      ],
      "execution_count": null,
      "outputs": []
    },
    {
      "cell_type": "code",
      "metadata": {
        "id": "W8ZHjJ3XHoU5"
      },
      "source": [
        "test_loss,test_acc=model.evaluate(x_test , y_test)\n",
        "print('test_loss : {0}-test_acc:{1}'.format(test_loss,test_acc))"
      ],
      "execution_count": null,
      "outputs": []
    },
    {
      "cell_type": "code",
      "metadata": {
        "id": "P5IzDu-4Ibna"
      },
      "source": [
        ""
      ],
      "execution_count": null,
      "outputs": []
    }
  ]
}