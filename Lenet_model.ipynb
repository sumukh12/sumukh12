{
  "nbformat": 4,
  "nbformat_minor": 0,
  "metadata": {
    "colab": {
      "name": "Lenet_model",
      "provenance": []
    },
    "kernelspec": {
      "name": "python3",
      "display_name": "Python 3"
    },
    "language_info": {
      "name": "python"
    }
  },
  "cells": [
    {
      "cell_type": "code",
      "metadata": {
        "id": "Qe35cKt7qPB3"
      },
      "source": [
        "import keras\n",
        "from keras.datasets import mnist\n",
        "from keras.layers import Conv2D,MaxPooling2D\n",
        "from keras.layers import Dense,Flatten\n",
        "from keras.models import Sequential\n",
        "from tensorflow.keras.utils import to_categorical\n",
        "import tensorflow\n"
      ],
      "execution_count": 10,
      "outputs": []
    },
    {
      "cell_type": "markdown",
      "metadata": {
        "id": "9bD0UZKdqHdJ"
      },
      "source": [
        "code implimatation\n"
      ]
    },
    {
      "cell_type": "code",
      "metadata": {
        "colab": {
          "base_uri": "https://localhost:8080/"
        },
        "id": "eHeRuLHArAB7",
        "outputId": "9fcdeb8f-cd62-4625-8a31-080674ccd067"
      },
      "source": [
        "#loading datasets and performing splitting\n",
        "(X_train,y_train),(X_test,y_test)=mnist.load_data()\n",
        "#performing reshaping operation\n",
        "X_train=X_train.reshape(X_train.shape[0],28,28,1)\n",
        "X_test=X_test.reshape(X_test.shape[0],28,28,1)\n",
        "#Normalization\n",
        "X_train=X_train/255\n",
        "X_test=X_test/255\n",
        "# OneHotEncoding\n",
        "y_train=tensorflow.keras.utils.to_categorical(y_train,10)\n",
        "y_test=tensorflow.keras.utils.to_categorical(y_test,10)\n",
        "# Building the model Architecture\n",
        "model=Sequential()\n",
        "#select 6 feature convolution kernel with size of 5*5(without offset),and get 66 feature maps.\n",
        "#That is ,the numberv of neurons has been reduced from 10241024 to 28*28=784 28 +28=784.\n",
        "#parameters between input layer and ci layer :6*(5*5+1)\n",
        "model.add(Conv2D(6,kernel_size=(5,5),activation='relu',input_shape=(28,28,1)))\n",
        "#The input of this layer is the output of first the first layer,which is a 28*28+6 node matrix,\n",
        "#The size of the filter used in this layers is 2*2,and the step length and width are both 2,so the \n",
        "model.add(MaxPooling2D(pool_size=(2,2)))\n",
        "#The input matrix size is of this layer is 14*14*6,the filter size is used 5*5 and depth is \n",
        "#The output matrix size is of this layer is 10*10*16.This layer has 5*5*6*6*16+16=2416 parameters\n",
        "#The number of output node in this layer is 120,with a total of5*5*16*120+120=48120 parameter\n",
        "model.add(Flatten())\n",
        "model.add(Dense(120,activation='relu'))\n",
        "#The number of input mode in thsi layer is 120 and number output node is 84\n",
        "model.add(Dense(84,activation='relu'))\n",
        "#The number of input mode is 84 and number of outputnode is 10\n",
        "model.add(Dense(10,activation='softmax'))\n",
        "model.compile(loss=keras.metrics.categorical_crossentropy,optimizer=keras.optimizers.Adam(),metrics=['accuracy'])\n",
        "model.fit(X_train,y_train,batch_size=128,epochs=20,verbose=1,validation_data=(X_test,y_test))\n",
        "score=model.evaluate(X_test,y_test)\n",
        "print(\"Test loss\",score[0])\n",
        "print(\"Test Accuarcy\",score[1])"
      ],
      "execution_count": 15,
      "outputs": [
        {
          "output_type": "stream",
          "text": [
            "Epoch 1/20\n",
            "469/469 [==============================] - 33s 40ms/step - loss: 0.5991 - accuracy: 0.8322 - val_loss: 0.1602 - val_accuracy: 0.9493\n",
            "Epoch 2/20\n",
            "469/469 [==============================] - 18s 39ms/step - loss: 0.1285 - accuracy: 0.9612 - val_loss: 0.0900 - val_accuracy: 0.9711\n",
            "Epoch 3/20\n",
            "469/469 [==============================] - 18s 39ms/step - loss: 0.0791 - accuracy: 0.9763 - val_loss: 0.0629 - val_accuracy: 0.9787\n",
            "Epoch 4/20\n",
            "469/469 [==============================] - 18s 39ms/step - loss: 0.0566 - accuracy: 0.9828 - val_loss: 0.0678 - val_accuracy: 0.9781\n",
            "Epoch 5/20\n",
            "469/469 [==============================] - 18s 39ms/step - loss: 0.0469 - accuracy: 0.9846 - val_loss: 0.0617 - val_accuracy: 0.9812\n",
            "Epoch 6/20\n",
            "469/469 [==============================] - 18s 39ms/step - loss: 0.0403 - accuracy: 0.9873 - val_loss: 0.0571 - val_accuracy: 0.9830\n",
            "Epoch 7/20\n",
            "469/469 [==============================] - 18s 39ms/step - loss: 0.0277 - accuracy: 0.9908 - val_loss: 0.0557 - val_accuracy: 0.9818\n",
            "Epoch 8/20\n",
            "469/469 [==============================] - 18s 39ms/step - loss: 0.0223 - accuracy: 0.9922 - val_loss: 0.0604 - val_accuracy: 0.9815\n",
            "Epoch 9/20\n",
            "469/469 [==============================] - 18s 39ms/step - loss: 0.0207 - accuracy: 0.9941 - val_loss: 0.0580 - val_accuracy: 0.9814\n",
            "Epoch 10/20\n",
            "469/469 [==============================] - 18s 39ms/step - loss: 0.0162 - accuracy: 0.9944 - val_loss: 0.0552 - val_accuracy: 0.9831\n",
            "Epoch 11/20\n",
            "469/469 [==============================] - 18s 39ms/step - loss: 0.0149 - accuracy: 0.9952 - val_loss: 0.0455 - val_accuracy: 0.9862\n",
            "Epoch 12/20\n",
            "469/469 [==============================] - 18s 39ms/step - loss: 0.0132 - accuracy: 0.9953 - val_loss: 0.0586 - val_accuracy: 0.9838\n",
            "Epoch 13/20\n",
            "469/469 [==============================] - 18s 39ms/step - loss: 0.0112 - accuracy: 0.9964 - val_loss: 0.0486 - val_accuracy: 0.9859\n",
            "Epoch 14/20\n",
            "469/469 [==============================] - 18s 39ms/step - loss: 0.0099 - accuracy: 0.9967 - val_loss: 0.0551 - val_accuracy: 0.9859\n",
            "Epoch 15/20\n",
            "469/469 [==============================] - 18s 39ms/step - loss: 0.0096 - accuracy: 0.9969 - val_loss: 0.0560 - val_accuracy: 0.9852\n",
            "Epoch 16/20\n",
            "469/469 [==============================] - 18s 39ms/step - loss: 0.0066 - accuracy: 0.9980 - val_loss: 0.0576 - val_accuracy: 0.9843\n",
            "Epoch 17/20\n",
            "469/469 [==============================] - 18s 39ms/step - loss: 0.0066 - accuracy: 0.9979 - val_loss: 0.0563 - val_accuracy: 0.9862\n",
            "Epoch 18/20\n",
            "469/469 [==============================] - 18s 39ms/step - loss: 0.0067 - accuracy: 0.9979 - val_loss: 0.0534 - val_accuracy: 0.9863\n",
            "Epoch 19/20\n",
            "469/469 [==============================] - 18s 39ms/step - loss: 0.0053 - accuracy: 0.9983 - val_loss: 0.0702 - val_accuracy: 0.9852\n",
            "Epoch 20/20\n",
            "469/469 [==============================] - 18s 39ms/step - loss: 0.0076 - accuracy: 0.9970 - val_loss: 0.0550 - val_accuracy: 0.9864\n",
            "313/313 [==============================] - 2s 6ms/step - loss: 0.0550 - accuracy: 0.9864\n",
            "Test loss 0.05504690483212471\n",
            "Test Accuarcy 0.9864000082015991\n"
          ],
          "name": "stdout"
        }
      ]
    },
    {
      "cell_type": "code",
      "metadata": {
        "id": "7FZAZihT4EAH"
      },
      "source": [
        ""
      ],
      "execution_count": null,
      "outputs": []
    },
    {
      "cell_type": "code",
      "metadata": {
        "id": "y5mfuH9J0WY9"
      },
      "source": [
        ""
      ],
      "execution_count": null,
      "outputs": []
    }
  ]
}